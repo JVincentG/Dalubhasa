{
  "nbformat": 4,
  "nbformat_minor": 0,
  "metadata": {
    "colab": {
      "name": "Prediction using Supervised ML.ipynb",
      "provenance": [],
      "authorship_tag": "ABX9TyMDiOhTK370OLZTEWxCQVjD",
      "include_colab_link": true
    },
    "kernelspec": {
      "name": "python3",
      "display_name": "Python 3"
    }
  },
  "cells": [
    {
      "cell_type": "markdown",
      "metadata": {
        "id": "view-in-github",
        "colab_type": "text"
      },
      "source": [
        "<a href=\"https://colab.research.google.com/github/Ragnov/Dalubhasa/blob/master/Prediction_using_Supervised_ML.ipynb\" target=\"_parent\"><img src=\"https://colab.research.google.com/assets/colab-badge.svg\" alt=\"Open In Colab\"/></a>"
      ]
    },
    {
      "cell_type": "markdown",
      "metadata": {
        "id": "zhzup8P0IeV5"
      },
      "source": [
        "## **Prediction using Supervised ML**\r\n",
        "Predict the percentage of an student based on the no. of study hours.\r\n",
        "● This is a simple linear regression task as it involves just 2 variables.\r\n",
        "● You can use R, Python, SAS Enterprise Miner or any other tool\r\n",
        "● Data can be found at http://bit.ly/w-data\r\n",
        "● What will be predicted score if a student studies for 9.25 hrs/ day?\r\n",
        "● Sample Solution : https://bit.ly/2HxiGGJ\r\n",
        "● Task submission:\r\n",
        "1. Host the code on GitHub Repository (public). Record the code and\r\n",
        "output in a video. Post the video on YouTube\r\n",
        "2. Share links of code (GitHub) and video (YouTube) as a post on\r\n",
        "YOUR LinkedIn profile, not TSF Network.\r\n",
        "3. Submit the LinkedIn link in Task Submission Form when shared."
      ]
    },
    {
      "cell_type": "code",
      "metadata": {
        "id": "FhAQaTU4GdRf"
      },
      "source": [
        ""
      ],
      "execution_count": null,
      "outputs": []
    }
  ]
}